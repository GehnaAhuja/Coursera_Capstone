{
    "nbformat_minor": 1, 
    "cells": [
        {
            "source": "<h1>IBM Data Science Professional Specialization - Coursera</h1>\n<p>This notebook is for the capstone project for the 9-courses specialization in Data Science of IBM. Platform Coursera. Data Science Specialization\nThis project will try to solve a problem or question by applying data science methods on the location data gotten from FourSquare API.</p>", 
            "cell_type": "markdown", 
            "metadata": {
                "collapsed": true
            }
        }, 
        {
            "source": "<ol type='1'>\n    <h3><li>Description of the Project:</li></h3>\n    <br>\n    <ol type='A'>\n        <h3><li>Introduction:</li></h3>\n        <br>\n            <p>Who ever has come to New York will be enchanted by her beauty and atmosphere, with vibrant life 24/7, never-ending to-do list, booming business at every corners, and by the expertly-planned transport system which can take you everywhere in the city.\nNew York is famous worldwide as the finance center and the \"tourist must go to\" city in North America. No wonder the real estate market there is one of the priciest. It's where a penthouse at the new Peter Marino-designed condo The Getty, just steps from the High Line, is sold for \\$59 million (\\\\$5,826/ft2).\nBut that is just an outlier example. A quick search can show us the real estate price can vary by a large margin from neighborhoods to neighborhoods. For example, a 2-bedrooms condo in Central Park West, Upper West Side can cost \\$4.91 millions on average; while in Inwood, Upper Manhattan, just 30 minutes aways, it's only \\\\$498 thousands.\n\nSo what aspects of a neighborhood that can effect the price of real estates to such extend? One hypothesis is that the surrounding venues can be a decision factor.\nSurely anyone, who has attempted to find an accommodation for rent or buy, has seen advertisements such as: This condo is located near the subway station, malls, supermarkets, dinners, etc. And it's likely that the price will be higher than others with locations not as \"convenient\".\nCan the venues surrounding an accommodation effect its price? And what kind of venues can effect the most? And by what weight?</p>\n<br>\n        <h3><li>The question to solve:</li></h3>\n        This project will try to explore the neighborhoods of New York city to see:\n            <ul type='disc'>\n                <li>if the surrounding venues can effect the price of real estates? </li>\n                <li>what kind of surrounding venues, and to what extend, can effect the price? </li>\n                <li>if we can use the surrounding venue to estimate the value of an accommodation over the average price of one area? And to what degree of confidence?</li>\n            </ul><br>\n            The result can be useful for home buyers, who can roughly estimate the value of a target house over the average.\nOr to planners, who can decide which venues to place around their product, so that the price is maximized.\nOr to just any normal person\n       </ol><br>\n       <h3><li>Description of the data:</li></h3>\n       <br>\n            <p>The main data used for this project will be from two sources:</p>\n            <ul type='disc'>\n                <li>The average price by neighborhoods in New York city. </li>\n                <li>The venues in each neighborhood. </li>\n            </ul>\n            <br>\n            Other supporting data:\n            <ul type='disc'>\n                <li>Coordinates </li>\n                <li>GeoJson </li>\n            </ul>\n            <br>\n            *Note: This project will only consider the average price of 2-bedrooms condo, which is a common type of real estate among normal families.\n          <ol type='1'>\n        <h3><li>Data collection process:</li></h3>\n            <ul type='disc'>\n                <li>The average price will be scrapped from the CityRealty website </li>\n                <li>For each neighborhood, call Geocoder Python to get its coordinate </li>\n                <li>For each neighborhood's coordinate, call FourSquare API to get the surrounding venues. </li>\n                <li>Count the occurrences of each venue type and attach that information to each neighborhood. </li>\n            </ul>\n    <br>\n    The output of the data collecting process will be a 2 dimensions dataframe:\n            <ul type='disc'>\n                <li>Each row represents a neighborhood. </li>\n                <li>Each column will be the count of one type of venue in that neighborhood. </li>\n                <li>The last column will be the average 2-bedroom condo price of that neighborhood. </li>\n            </ul>\n        <h3><li>Using data to solve the question:</li></h3>\n            <ul type='disc'>\n                <li>First, correlation between price and surrounding venues will be checked. </li>\n                <li>Second, if correlated, machine learning techniques (PCA, Regression, PCR) will be used to analyze the data. The output will be a list of venues types that effect the most on price, along with their weight on the result.</li>\n            </ul>\n       </ol> \n</ol>", 
            "cell_type": "markdown", 
            "metadata": {}
        }, 
        {
            "source": "", 
            "cell_type": "code", 
            "metadata": {}, 
            "outputs": [], 
            "execution_count": null
        }
    ], 
    "metadata": {
        "kernelspec": {
            "display_name": "Python 3.6", 
            "name": "python3", 
            "language": "python"
        }, 
        "language_info": {
            "mimetype": "text/x-python", 
            "nbconvert_exporter": "python", 
            "version": "3.6.8", 
            "name": "python", 
            "pygments_lexer": "ipython3", 
            "file_extension": ".py", 
            "codemirror_mode": {
                "version": 3, 
                "name": "ipython"
            }
        }
    }, 
    "nbformat": 4
}